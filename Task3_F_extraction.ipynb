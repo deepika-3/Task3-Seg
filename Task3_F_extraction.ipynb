{
  "nbformat": 4,
  "nbformat_minor": 0,
  "metadata": {
    "colab": {
      "provenance": []
    },
    "kernelspec": {
      "name": "python3",
      "display_name": "Python 3"
    },
    "language_info": {
      "name": "python"
    }
  },
  "cells": [
    {
      "cell_type": "code",
      "execution_count": 1,
      "metadata": {
        "colab": {
          "base_uri": "https://localhost:8080/"
        },
        "id": "_zM1XwZxkRUX",
        "outputId": "22bc20db-4e74-46b0-cdbf-c85eaf5759d4"
      },
      "outputs": [
        {
          "output_type": "stream",
          "name": "stdout",
          "text": [
            "Tibia feature vector shape: torch.Size([1, 352])\n",
            "Femur feature vector shape: torch.Size([1, 352])\n",
            "Background feature vector shape: torch.Size([1, 352])\n"
          ]
        }
      ],
      "source": [
        "import torch\n",
        "import torch.nn as nn\n",
        "import torch.nn.functional as F\n",
        "\n",
        "# Example 3D CNN model (replace with your actual model)\n",
        "class Sample3DCNN(nn.Module):\n",
        "    def __init__(self):\n",
        "        super().__init__()\n",
        "        self.conv1 = nn.Conv3d(1, 16, 3, padding=1)\n",
        "        self.conv2 = nn.Conv3d(16, 32, 3, padding=1)\n",
        "        self.conv3 = nn.Conv3d(32, 64, 3, padding=1)\n",
        "        self.conv4 = nn.Conv3d(64, 128, 3, padding=1)\n",
        "        self.conv5 = nn.Conv3d(128, 256, 3, padding=1)\n",
        "        self.pool = nn.AdaptiveAvgPool3d(1)  # For GAP\n",
        "\n",
        "    def forward(self, x):\n",
        "        features = []\n",
        "        x = F.relu(self.conv1(x))\n",
        "        x = F.relu(self.conv2(x))\n",
        "        features.append(x)  # fifth-last (if conv5 is last)\n",
        "        x = F.relu(self.conv3(x))\n",
        "        features.append(x)  # third-last\n",
        "        x = F.relu(self.conv4(x))\n",
        "        x = F.relu(self.conv5(x))\n",
        "        features.append(x)  # last\n",
        "        return features\n",
        "\n",
        "# Initialize model\n",
        "model = Sample3DCNN()\n",
        "model.eval()\n",
        "\n",
        "# Simulated 3D input volumes per region (replace with real data)\n",
        "regions = {\n",
        "    \"Tibia\": torch.randn(1, 1, 64, 64, 64),\n",
        "    \"Femur\": torch.randn(1, 1, 64, 64, 64),\n",
        "    \"Background\": torch.randn(1, 1, 64, 64, 64)\n",
        "}\n",
        "\n",
        "# Store output feature vectors\n",
        "region_features = {}\n",
        "\n",
        "with torch.no_grad():\n",
        "    for region_name, volume in regions.items():\n",
        "        feature_maps = model(volume)\n",
        "\n",
        "        # Apply Global Average Pooling to each selected feature map\n",
        "        pooled_vectors = [F.adaptive_avg_pool3d(fm, 1).flatten(1) for fm in feature_maps]\n",
        "\n",
        "        # Optional: concatenate all pooled vectors\n",
        "        feature_vector = torch.cat(pooled_vectors, dim=1)\n",
        "\n",
        "        region_features[region_name] = feature_vector\n",
        "\n",
        "# Example output\n",
        "for region, vec in region_features.items():\n",
        "    print(f\"{region} feature vector shape: {vec.shape}\")\n"
      ]
    }
  ]
}