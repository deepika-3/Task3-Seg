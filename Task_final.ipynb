{
  "nbformat": 4,
  "nbformat_minor": 0,
  "metadata": {
    "colab": {
      "provenance": []
    },
    "kernelspec": {
      "name": "python3",
      "display_name": "Python 3"
    },
    "language_info": {
      "name": "python"
    }
  },
  "cells": [
    {
      "cell_type": "code",
      "source": [
        "import torch\n",
        "import torch.nn as nn\n",
        "import torch.nn.functional as F\n",
        "from itertools import combinations\n",
        "import csv\n",
        "\n",
        "# Example 3D CNN model\n",
        "class Sample3DCNN(nn.Module):\n",
        "    def __init__(self):\n",
        "        super().__init__()\n",
        "        self.conv1 = nn.Conv3d(1, 16, 3, padding=1)\n",
        "        self.conv2 = nn.Conv3d(16, 32, 3, padding=1)\n",
        "        self.conv3 = nn.Conv3d(32, 64, 3, padding=1)\n",
        "        self.conv4 = nn.Conv3d(64, 128, 3, padding=1)\n",
        "        self.conv5 = nn.Conv3d(128, 256, 3, padding=1)\n",
        "\n",
        "    def forward(self, x):\n",
        "        features = []\n",
        "        x = F.relu(self.conv1(x))\n",
        "        x = F.relu(self.conv2(x))\n",
        "        features.append(x)  # fifth-last\n",
        "        x = F.relu(self.conv3(x))\n",
        "        features.append(x)  # third-last\n",
        "        x = F.relu(self.conv4(x))\n",
        "        x = F.relu(self.conv5(x))\n",
        "        features.append(x)  # last\n",
        "        return features\n",
        "\n",
        "# Initialize model\n",
        "model = Sample3DCNN()\n",
        "model.eval()\n",
        "\n",
        "# Simulated 3D input volumes per region (replace with real data)\n",
        "regions = {\n",
        "    \"Tibia\": torch.randn(1, 1, 32, 32, 32),\n",
        "    \"Femur\": torch.randn(1, 1, 32, 32, 32),\n",
        "    \"Background\": torch.randn(1, 1, 32, 32, 32)\n",
        "}\n",
        "\n",
        "region_features = {region: [] for region in regions}\n",
        "\n",
        "# Extract pooled feature vectors per region, per layer\n",
        "with torch.no_grad():\n",
        "    for region_name, volume in regions.items():\n",
        "        feature_maps = model(volume)\n",
        "        pooled_vectors = [F.adaptive_avg_pool3d(fm, 1).flatten(1) for fm in feature_maps]\n",
        "        region_features[region_name] = pooled_vectors\n",
        "\n",
        "region_names = list(regions.keys())\n",
        "layer_names = ['fifth-last', 'third-last', 'last']\n",
        "\n",
        "# 1. Define the results list with a header row\n",
        "csv_results = [(\"Layer\", \"Region Pair\", \"Cosine Similarity\")]\n",
        "\n",
        "# 2. Compute and store results\n",
        "for i, layer in enumerate(layer_names):\n",
        "    for r1, r2 in combinations(region_names, 2):\n",
        "        v1 = region_features[r1][i]  # [1, C]\n",
        "        v2 = region_features[r2][i]  # [1, C]\n",
        "        sim = F.cosine_similarity(v1, v2).item()\n",
        "        csv_results.append((layer, f\"{r1} ↔ {r2}\", sim))\n",
        "\n",
        "# 3. Write to CSV\n",
        "with open(\"cosine_similarities.csv\", \"w\", newline=\"\") as f:\n",
        "    writer = csv.writer(f)\n",
        "    writer.writerows(csv_results)\n",
        "\n",
        "print(\"Cosine similarities written to 'cosine_similarities.csv'\")"
      ],
      "metadata": {
        "colab": {
          "base_uri": "https://localhost:8080/"
        },
        "id": "yGMiPHkCBhBo",
        "outputId": "9102ac3f-5272-4403-8f73-f02a3f03f9d2"
      },
      "execution_count": 10,
      "outputs": [
        {
          "output_type": "stream",
          "name": "stdout",
          "text": [
            "Cosine similarities written to 'cosine_similarities.csv'\n"
          ]
        }
      ]
    },
    {
      "cell_type": "code",
      "source": [],
      "metadata": {
        "id": "IZ4AqgY4BhVd"
      },
      "execution_count": null,
      "outputs": []
    }
  ]
}